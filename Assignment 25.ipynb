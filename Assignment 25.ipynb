{
 "cells": [
  {
   "cell_type": "code",
   "execution_count": 7,
   "id": "4c0aa4b7",
   "metadata": {},
   "outputs": [],
   "source": [
    "def equal(n1,n2,n3):\n",
    "    s=set([n1,n2,n3])\n",
    "    if len(s)==3:\n",
    "        print(\"0\")\n",
    "    if len(s)==2:\n",
    "        print(\"2\")\n",
    "    if len(s)==1:\n",
    "        print(\"3\")"
   ]
  },
  {
   "cell_type": "code",
   "execution_count": 8,
   "id": "947c100a",
   "metadata": {},
   "outputs": [
    {
     "name": "stdout",
     "output_type": "stream",
     "text": [
      "2\n"
     ]
    }
   ],
   "source": [
    "equal(3,4,3)"
   ]
  },
  {
   "cell_type": "code",
   "execution_count": 12,
   "id": "31e0b4dd",
   "metadata": {},
   "outputs": [],
   "source": [
    "def dict_to_lists(dicti):\n",
    "    list=sorted([(k,v) for k,v in dicti.items()])\n",
    "    return list"
   ]
  },
  {
   "cell_type": "code",
   "execution_count": 13,
   "id": "692c1c0a",
   "metadata": {},
   "outputs": [
    {
     "data": {
      "text/plain": [
       "[('B', 2), ('C', 3), ('D', 1)]"
      ]
     },
     "execution_count": 13,
     "metadata": {},
     "output_type": "execute_result"
    }
   ],
   "source": [
    "dict_to_lists({\n",
    "\"D\": 1,\n",
    "\"B\": 2,\n",
    "\"C\": 3\n",
    "})"
   ]
  },
  {
   "cell_type": "code",
   "execution_count": 15,
   "id": "4d8745c7",
   "metadata": {},
   "outputs": [],
   "source": [
    "def mapping(lis):\n",
    "    dict={}\n",
    "    for i in lis:\n",
    "        dict.update({i:i.upper()})\n",
    "    return dict\n",
    "        "
   ]
  },
  {
   "cell_type": "code",
   "execution_count": 16,
   "id": "147837c0",
   "metadata": {},
   "outputs": [
    {
     "data": {
      "text/plain": [
       "{'p': 'P', 's': 'S'}"
      ]
     },
     "execution_count": 16,
     "metadata": {},
     "output_type": "execute_result"
    }
   ],
   "source": [
    "mapping([\"p\",\"s\"])"
   ]
  },
  {
   "cell_type": "code",
   "execution_count": 17,
   "id": "0559c01a",
   "metadata": {},
   "outputs": [],
   "source": [
    "def vow_replace(st1,st2):\n",
    "    vowels=['a','e','i','o','u']\n",
    "    for i in st1:\n",
    "        if i in vowels:\n",
    "            st1=st1.replace(i,st2)\n",
    "    return st1"
   ]
  },
  {
   "cell_type": "code",
   "execution_count": 18,
   "id": "30671fb1",
   "metadata": {},
   "outputs": [
    {
     "data": {
      "text/plain": [
       "'upplus und bununus'"
      ]
     },
     "execution_count": 18,
     "metadata": {},
     "output_type": "execute_result"
    }
   ],
   "source": [
    "vow_replace(\"apples and bananas\", \"u\")"
   ]
  },
  {
   "cell_type": "code",
   "execution_count": 21,
   "id": "cf7180c4",
   "metadata": {},
   "outputs": [],
   "source": [
    "def ascii_capitalize(stri):\n",
    "    for i in stri:\n",
    "        if ord(i)%2==0:\n",
    "            stri=stri.replace(i,i.upper())\n",
    "        else:\n",
    "            stri=stri.replace(i,i.lower())\n",
    "    return stri"
   ]
  },
  {
   "cell_type": "code",
   "execution_count": 23,
   "id": "3e036380",
   "metadata": {},
   "outputs": [
    {
     "data": {
      "text/plain": [
       "'THe LiTTLe meRmaiD'"
      ]
     },
     "execution_count": 23,
     "metadata": {},
     "output_type": "execute_result"
    }
   ],
   "source": [
    "ascii_capitalize(\"THE LITTLE MERMAID\")"
   ]
  },
  {
   "cell_type": "code",
   "execution_count": null,
   "id": "e2ace6a3",
   "metadata": {},
   "outputs": [],
   "source": []
  }
 ],
 "metadata": {
  "kernelspec": {
   "display_name": "Python 3",
   "language": "python",
   "name": "python3"
  },
  "language_info": {
   "codemirror_mode": {
    "name": "ipython",
    "version": 3
   },
   "file_extension": ".py",
   "mimetype": "text/x-python",
   "name": "python",
   "nbconvert_exporter": "python",
   "pygments_lexer": "ipython3",
   "version": "3.8.8"
  }
 },
 "nbformat": 4,
 "nbformat_minor": 5
}
